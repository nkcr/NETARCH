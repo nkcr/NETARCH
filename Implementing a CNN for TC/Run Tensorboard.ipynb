{
  "nbformat": 4,
  "nbformat_minor": 0,
  "metadata": {
    "colab": {
      "name": "Low level playground.ipynb",
      "version": "0.3.2",
      "provenance": [],
      "collapsed_sections": []
    },
    "kernelspec": {
      "name": "python3",
      "display_name": "Python 3"
    },
    "accelerator": "GPU"
  },
  "cells": [
    {
      "cell_type": "markdown",
      "metadata": {
        "id": "view-in-github",
        "colab_type": "text"
      },
      "source": [
        "[View in Colaboratory](https://colab.research.google.com/github/nkcr/NETARCH/blob/master/Implementing%20a%20CNN%20for%20TC/Run%20Tensorboard.ipynb)"
      ]
    },
    {
      "metadata": {
        "id": "h596EChVReTC",
        "colab_type": "code",
        "colab": {}
      },
      "cell_type": "code",
      "source": [
        "from __future__ import absolute_import\n",
        "from __future__ import division\n",
        "from __future__ import print_function\n",
        "\n",
        "import numpy as np\n",
        "import tensorflow as tf"
      ],
      "execution_count": 0,
      "outputs": []
    },
    {
      "metadata": {
        "id": "w54cAS0-RjV8",
        "colab_type": "code",
        "colab": {
          "base_uri": "https://localhost:8080/",
          "height": 71
        },
        "outputId": "21757f2b-fb14-4f0e-b2eb-f5d59c9fb9be"
      },
      "cell_type": "code",
      "source": [
        "a = tf.constant(3.0, dtype=tf.float32)\n",
        "b = tf.constant(4.0)\n",
        "total = a+b\n",
        "print(a)\n",
        "print(b)\n",
        "print(total)"
      ],
      "execution_count": 2,
      "outputs": [
        {
          "output_type": "stream",
          "text": [
            "Tensor(\"Const:0\", shape=(), dtype=float32)\n",
            "Tensor(\"Const_1:0\", shape=(), dtype=float32)\n",
            "Tensor(\"add:0\", shape=(), dtype=float32)\n"
          ],
          "name": "stdout"
        }
      ]
    },
    {
      "metadata": {
        "id": "A-bHuQhGSTVk",
        "colab_type": "text"
      },
      "cell_type": "markdown",
      "source": [
        "Using TensorBoard"
      ]
    },
    {
      "metadata": {
        "id": "2skBXtLcRp4m",
        "colab_type": "code",
        "colab": {
          "base_uri": "https://localhost:8080/",
          "height": 269
        },
        "outputId": "c60c78cc-b3ab-45a4-c50a-3a74f58b49f3"
      },
      "cell_type": "code",
      "source": [
        "import tensorflow as tf\n",
        "tf.reset_default_graph()\n",
        "#LOG_DIR = '/tmp/log'\n",
        "LOG_DIR= '/content/runs/'\n",
        "#LOG_DIR= '/content/runs/1526979864/checkpoints'\n",
        "get_ipython().system_raw(\n",
        "    'tensorboard --logdir {} --host 0.0.0.0 --port 6006 &'\n",
        "    .format(LOG_DIR)\n",
        ")\n",
        "! wget -nc https://bin.equinox.io/c/4VmDzA7iaHb/ngrok-stable-linux-amd64.zip\n",
        "! unzip -n ngrok-stable-linux-amd64.zip\n",
        "\n",
        "#writer = tf.summary.FileWriter('.')\n",
        "#writer.add_graph(tf.get_default_graph())\n",
        "get_ipython().system_raw('./ngrok http 6006 &')\n",
        "! curl -s http://localhost:4040/api/tunnels | python3 -c \\\n",
        "    \"import sys, json; print(json.load(sys.stdin)['tunnels'][0]['public_url'])\"\n"
      ],
      "execution_count": 2,
      "outputs": [
        {
          "output_type": "stream",
          "text": [
            "--2018-05-28 07:22:53--  https://bin.equinox.io/c/4VmDzA7iaHb/ngrok-stable-linux-amd64.zip\n",
            "Resolving bin.equinox.io (bin.equinox.io)... 34.225.24.230, 52.1.117.85, 34.239.63.98, ...\n",
            "Connecting to bin.equinox.io (bin.equinox.io)|34.225.24.230|:443... connected.\n",
            "HTTP request sent, awaiting response... 200 OK\n",
            "Length: 5363700 (5.1M) [application/octet-stream]\n",
            "Saving to: ‘ngrok-stable-linux-amd64.zip’\n",
            "\n",
            "ngrok-stable-linux- 100%[===================>]   5.11M  8.54MB/s    in 0.6s    \n",
            "\n",
            "2018-05-28 07:22:54 (8.54 MB/s) - ‘ngrok-stable-linux-amd64.zip’ saved [5363700/5363700]\n",
            "\n",
            "Archive:  ngrok-stable-linux-amd64.zip\n",
            "  inflating: ngrok                   \n",
            "http://e9b237d8.ngrok.io\n"
          ],
          "name": "stdout"
        }
      ]
    },
    {
      "metadata": {
        "id": "aBLbLxxNSd_s",
        "colab_type": "code",
        "colab": {}
      },
      "cell_type": "code",
      "source": [
        "writer = tf.summary.FileWriter(LOG_DIR)\n",
        "writer.add_graph(tf.get_default_graph())"
      ],
      "execution_count": 0,
      "outputs": []
    },
    {
      "metadata": {
        "id": "hpKoj6vyo3M3",
        "colab_type": "code",
        "colab": {}
      },
      "cell_type": "code",
      "source": [
        "! cd runs && rm -rf *"
      ],
      "execution_count": 0,
      "outputs": []
    },
    {
      "metadata": {
        "id": "UGkE7xt4iQMv",
        "colab_type": "code",
        "colab": {
          "base_uri": "https://localhost:8080/",
          "height": 125
        },
        "outputId": "1bf8c172-f0df-4631-a94b-fcfe2db835a6"
      },
      "cell_type": "code",
      "source": [
        "! ps -ef | grep 6006\n",
        "! kill -9 23162 23190\n",
        "! ps -ef | grep 6006"
      ],
      "execution_count": 38,
      "outputs": [
        {
          "output_type": "stream",
          "text": [
            "root     23162     1  0 09:41 ?        00:00:02 /usr/bin/python2 /usr/local/bin/tensorboard --logdir /content/runs/1526979864/checkpoints --host 0.0.0.0 --port 6006\r\n",
            "root     23190     1  0 09:41 ?        00:00:03 ./ngrok http 6006\r\n",
            "root     23290   191 99 09:57 pts/0    00:00:01 /bin/sh -c  ps -ef | grep 6006\r\n",
            "root     23292 23290  0 09:57 pts/0    00:00:00 grep 6006\n",
            "root     23294   191 99 09:57 pts/0    00:00:01 /bin/sh -c  ps -ef | grep 6006\n",
            "root     23296 23294  0 09:57 pts/0    00:00:00 grep 6006\n"
          ],
          "name": "stdout"
        }
      ]
    },
    {
      "metadata": {
        "id": "DWlZJfMJftSa",
        "colab_type": "code",
        "colab": {
          "base_uri": "https://localhost:8080/",
          "height": 53
        },
        "outputId": "ba754c4f-1c05-40ee-c4e9-3d9919214bf6"
      },
      "cell_type": "code",
      "source": [
        "! ls -l /content/runs/"
      ],
      "execution_count": 6,
      "outputs": [
        {
          "output_type": "stream",
          "text": [
            "total 4\r\n",
            "drwxr-xr-x 4 root root 4096 May 24 09:31 1527154306\r\n"
          ],
          "name": "stdout"
        }
      ]
    },
    {
      "metadata": {
        "id": "DI-uBldlXkg7",
        "colab_type": "code",
        "colab": {}
      },
      "cell_type": "code",
      "source": [
        "rm -rf runs/1527153935"
      ],
      "execution_count": 0,
      "outputs": []
    },
    {
      "metadata": {
        "id": "q0Pw5lGDpK_b",
        "colab_type": "code",
        "colab": {
          "base_uri": "https://localhost:8080/",
          "height": 251
        },
        "outputId": "21713c69-cfb1-46a0-a61e-871e4c200001"
      },
      "cell_type": "code",
      "source": [
        "FILE=\"GoogleNews-vectors-negative300.bin\"\n",
        "!wget -nc 'https://s3.amazonaws.com/dl4j-distribution/GoogleNews-vectors-negative300.bin.gz'\n",
        "!ls\n",
        "get_ipython().system_raw(\n",
        "    '[ -f \"{}\" ] && echo \"skipping {}\" || gunzip \"{}.gz\"'\n",
        "    .format(FILE,FILE,FILE)\n",
        ")\n",
        "!ls"
      ],
      "execution_count": 1,
      "outputs": [
        {
          "output_type": "stream",
          "text": [
            "--2018-05-28 07:16:45--  https://s3.amazonaws.com/dl4j-distribution/GoogleNews-vectors-negative300.bin.gz\r\n",
            "Resolving s3.amazonaws.com (s3.amazonaws.com)... 52.216.102.149\n",
            "Connecting to s3.amazonaws.com (s3.amazonaws.com)|52.216.102.149|:443... connected.\n",
            "HTTP request sent, awaiting response... 200 OK\n",
            "Length: 1647046227 (1.5G) [application/x-gzip]\n",
            "Saving to: ‘GoogleNews-vectors-negative300.bin.gz’\n",
            "\n",
            "e300.bin.gz          74%[=============>      ]   1.15G  44.8MB/s    eta 15s    "
          ],
          "name": "stdout"
        },
        {
          "output_type": "stream",
          "text": [
            "GoogleNews-vectors- 100%[===================>]   1.53G  45.1MB/s    in 52s     \n",
            "\n",
            "2018-05-28 07:17:38 (30.0 MB/s) - ‘GoogleNews-vectors-negative300.bin.gz’ saved [1647046227/1647046227]\n",
            "\n",
            "datalab  GoogleNews-vectors-negative300.bin.gz\n",
            "datalab  GoogleNews-vectors-negative300.bin\n"
          ],
          "name": "stdout"
        }
      ]
    },
    {
      "metadata": {
        "id": "1IGfQZu2u7Lu",
        "colab_type": "code",
        "colab": {
          "base_uri": "https://localhost:8080/",
          "height": 550
        },
        "outputId": "1c99cc28-4d8d-436b-8dd0-a25c51c63142"
      },
      "cell_type": "code",
      "source": [
        "from google.colab import files\n",
        "files.download('projector_metadata.tsv')"
      ],
      "execution_count": 42,
      "outputs": [
        {
          "output_type": "error",
          "ename": "MessageError",
          "evalue": "ignored",
          "traceback": [
            "\u001b[0;31m---------------------------------------------------------------------------\u001b[0m",
            "\u001b[0;31mMessageError\u001b[0m                              Traceback (most recent call last)",
            "\u001b[0;32m<ipython-input-42-7bd16e7185fb>\u001b[0m in \u001b[0;36m<module>\u001b[0;34m()\u001b[0m\n\u001b[1;32m      1\u001b[0m \u001b[0;32mfrom\u001b[0m \u001b[0mgoogle\u001b[0m\u001b[0;34m.\u001b[0m\u001b[0mcolab\u001b[0m \u001b[0;32mimport\u001b[0m \u001b[0mfiles\u001b[0m\u001b[0;34m\u001b[0m\u001b[0m\n\u001b[0;32m----> 2\u001b[0;31m \u001b[0mfiles\u001b[0m\u001b[0;34m.\u001b[0m\u001b[0mdownload\u001b[0m\u001b[0;34m(\u001b[0m\u001b[0;34m'projector_metadata.tsv'\u001b[0m\u001b[0;34m)\u001b[0m\u001b[0;34m\u001b[0m\u001b[0m\n\u001b[0m",
            "\u001b[0;32m/usr/local/lib/python3.6/dist-packages/google/colab/files.py\u001b[0m in \u001b[0;36mdownload\u001b[0;34m(filename)\u001b[0m\n\u001b[1;32m    170\u001b[0m       \u001b[0;34m'port'\u001b[0m\u001b[0;34m:\u001b[0m \u001b[0mport\u001b[0m\u001b[0;34m,\u001b[0m\u001b[0;34m\u001b[0m\u001b[0m\n\u001b[1;32m    171\u001b[0m       \u001b[0;34m'path'\u001b[0m\u001b[0;34m:\u001b[0m \u001b[0mos\u001b[0m\u001b[0;34m.\u001b[0m\u001b[0mpath\u001b[0m\u001b[0;34m.\u001b[0m\u001b[0mabspath\u001b[0m\u001b[0;34m(\u001b[0m\u001b[0mfilename\u001b[0m\u001b[0;34m)\u001b[0m\u001b[0;34m,\u001b[0m\u001b[0;34m\u001b[0m\u001b[0m\n\u001b[0;32m--> 172\u001b[0;31m       \u001b[0;34m'name'\u001b[0m\u001b[0;34m:\u001b[0m \u001b[0mos\u001b[0m\u001b[0;34m.\u001b[0m\u001b[0mpath\u001b[0m\u001b[0;34m.\u001b[0m\u001b[0mbasename\u001b[0m\u001b[0;34m(\u001b[0m\u001b[0mfilename\u001b[0m\u001b[0;34m)\u001b[0m\u001b[0;34m,\u001b[0m\u001b[0;34m\u001b[0m\u001b[0m\n\u001b[0m\u001b[1;32m    173\u001b[0m   })\n",
            "\u001b[0;32m/usr/local/lib/python3.6/dist-packages/google/colab/output/_js.py\u001b[0m in \u001b[0;36meval_js\u001b[0;34m(script, ignore_result)\u001b[0m\n\u001b[1;32m     37\u001b[0m   \u001b[0;32mif\u001b[0m \u001b[0mignore_result\u001b[0m\u001b[0;34m:\u001b[0m\u001b[0;34m\u001b[0m\u001b[0m\n\u001b[1;32m     38\u001b[0m     \u001b[0;32mreturn\u001b[0m\u001b[0;34m\u001b[0m\u001b[0m\n\u001b[0;32m---> 39\u001b[0;31m   \u001b[0;32mreturn\u001b[0m \u001b[0m_message\u001b[0m\u001b[0;34m.\u001b[0m\u001b[0mread_reply_from_input\u001b[0m\u001b[0;34m(\u001b[0m\u001b[0mrequest_id\u001b[0m\u001b[0;34m)\u001b[0m\u001b[0;34m\u001b[0m\u001b[0m\n\u001b[0m\u001b[1;32m     40\u001b[0m \u001b[0;34m\u001b[0m\u001b[0m\n\u001b[1;32m     41\u001b[0m \u001b[0;34m\u001b[0m\u001b[0m\n",
            "\u001b[0;32m/usr/local/lib/python3.6/dist-packages/google/colab/_message.py\u001b[0m in \u001b[0;36mread_reply_from_input\u001b[0;34m(message_id, timeout_sec)\u001b[0m\n\u001b[1;32m     84\u001b[0m         reply.get('colab_msg_id') == message_id):\n\u001b[1;32m     85\u001b[0m       \u001b[0;32mif\u001b[0m \u001b[0;34m'error'\u001b[0m \u001b[0;32min\u001b[0m \u001b[0mreply\u001b[0m\u001b[0;34m:\u001b[0m\u001b[0;34m\u001b[0m\u001b[0m\n\u001b[0;32m---> 86\u001b[0;31m         \u001b[0;32mraise\u001b[0m \u001b[0mMessageError\u001b[0m\u001b[0;34m(\u001b[0m\u001b[0mreply\u001b[0m\u001b[0;34m[\u001b[0m\u001b[0;34m'error'\u001b[0m\u001b[0;34m]\u001b[0m\u001b[0;34m)\u001b[0m\u001b[0;34m\u001b[0m\u001b[0m\n\u001b[0m\u001b[1;32m     87\u001b[0m       \u001b[0;32mreturn\u001b[0m \u001b[0mreply\u001b[0m\u001b[0;34m.\u001b[0m\u001b[0mget\u001b[0m\u001b[0;34m(\u001b[0m\u001b[0;34m'data'\u001b[0m\u001b[0;34m,\u001b[0m \u001b[0;32mNone\u001b[0m\u001b[0;34m)\u001b[0m\u001b[0;34m\u001b[0m\u001b[0m\n\u001b[1;32m     88\u001b[0m \u001b[0;34m\u001b[0m\u001b[0m\n",
            "\u001b[0;31mMessageError\u001b[0m: TypeError: Type error"
          ]
        }
      ]
    },
    {
      "metadata": {
        "id": "zZfs0pFsZUww",
        "colab_type": "text"
      },
      "cell_type": "markdown",
      "source": [
        "Run a session"
      ]
    },
    {
      "metadata": {
        "id": "Jb1knp4eYbfv",
        "colab_type": "code",
        "colab": {
          "base_uri": "https://localhost:8080/",
          "height": 53
        },
        "outputId": "5ea5bfb7-139d-44b7-c8ec-9db3535841f3"
      },
      "cell_type": "code",
      "source": [
        "sess = tf.Session()\n",
        "print(sess.run(total))\n",
        "print(sess.run({'ab': (a,b), 'total': total}))"
      ],
      "execution_count": 7,
      "outputs": [
        {
          "output_type": "stream",
          "text": [
            "7.0\n",
            "{'total': 7.0, 'ab': (3.0, 4.0)}\n"
          ],
          "name": "stdout"
        }
      ]
    },
    {
      "metadata": {
        "id": "KyHDk0geZa2E",
        "colab_type": "code",
        "colab": {
          "base_uri": "https://localhost:8080/",
          "height": 114
        },
        "outputId": "f9a608c3-0d38-4f7d-aa1d-a39449b3fe95"
      },
      "cell_type": "code",
      "source": [
        "vec = tf.random_uniform(shape=[3])\n",
        "out1 = vec + 1\n",
        "out2 = vec + 2\n",
        "print(sess.run(vec))\n",
        "print(sess.run(out1))\n",
        "print(sess.run(out2))\n",
        "print(sess.run((out1, out2)))"
      ],
      "execution_count": 8,
      "outputs": [
        {
          "output_type": "stream",
          "text": [
            "[0.9237155  0.42957187 0.6805531 ]\n",
            "[1.3432978 1.8276473 1.9982173]\n",
            "[2.5280676 2.34945   2.8061225]\n",
            "(array([1.084274 , 1.5919821, 1.880151 ], dtype=float32), array([2.084274 , 2.5919821, 2.880151 ], dtype=float32))\n"
          ],
          "name": "stdout"
        }
      ]
    },
    {
      "metadata": {
        "id": "irInNTy9a46f",
        "colab_type": "text"
      },
      "cell_type": "markdown",
      "source": [
        "Placeholder are a promise to provide a value later"
      ]
    },
    {
      "metadata": {
        "id": "iu1Jo2LzaDDu",
        "colab_type": "code",
        "colab": {}
      },
      "cell_type": "code",
      "source": [
        "x = tf.placeholder(tf.float32)\n",
        "y = tf.placeholder(tf.float32)\n",
        "z = x + y"
      ],
      "execution_count": 0,
      "outputs": []
    },
    {
      "metadata": {
        "id": "SOldvb2ta4C3",
        "colab_type": "code",
        "colab": {
          "base_uri": "https://localhost:8080/",
          "height": 53
        },
        "outputId": "5a47071d-e142-42b2-82a9-4f7408238e71"
      },
      "cell_type": "code",
      "source": [
        "print(sess.run(z, feed_dict={x: 3, y: 4.5}))\n",
        "print(sess.run(z, feed_dict={x: [1,2], y: [2,4]}))"
      ],
      "execution_count": 10,
      "outputs": [
        {
          "output_type": "stream",
          "text": [
            "7.5\n",
            "[3. 6.]\n"
          ],
          "name": "stdout"
        }
      ]
    },
    {
      "metadata": {
        "id": "nFe8gF-hbriR",
        "colab_type": "text"
      },
      "cell_type": "markdown",
      "source": [
        "Dataset"
      ]
    },
    {
      "metadata": {
        "id": "h1gE0f4kbOqG",
        "colab_type": "code",
        "colab": {
          "base_uri": "https://localhost:8080/",
          "height": 269
        },
        "outputId": "11d1a12a-18ee-418d-db35-a8143a53c764"
      },
      "cell_type": "code",
      "source": [
        "my_data = [\n",
        "    [0, 1,],\n",
        "    [2, 3,],\n",
        "    [4, 5,],\n",
        "    [6, 7,],\n",
        "]\n",
        "\n",
        "slices = tf.data.Dataset.from_tensor_slices(my_data)\n",
        "next_item = slices.make_one_shot_iterator().get_next()\n",
        "\n",
        "while True:\n",
        "  try:\n",
        "    print(sess.run(next_item))\n",
        "  except tf.errors.OutOfRangeError:\n",
        "    break\n",
        "    \n",
        "r = tf.random_normal([10,3])\n",
        "dataset = tf.data.Dataset.from_tensor_slices(r)\n",
        "iterator = dataset.make_initializable_iterator()\n",
        "next_row = iterator.get_next()\n",
        "\n",
        "sess.run(iterator.initializer)\n",
        "\n",
        "sess.run(iterator.initializer)\n",
        "while True:\n",
        "  try:\n",
        "    print(sess.run(next_row))\n",
        "  except tf.errors.OutOfRangeError:\n",
        "    break"
      ],
      "execution_count": 11,
      "outputs": [
        {
          "output_type": "stream",
          "text": [
            "[0 1]\n",
            "[2 3]\n",
            "[4 5]\n",
            "[6 7]\n",
            "[-0.7685284 -2.0994887 -1.3657249]\n",
            "[ 1.9649249 -0.5264158  0.449746 ]\n",
            "[-0.45013475  0.2322913   1.2542223 ]\n",
            "[ 0.6559432  2.124139  -1.4459771]\n",
            "[-0.820264    0.49138325 -0.02158285]\n",
            "[-0.41786754 -0.20539466 -0.1764493 ]\n",
            "[1.7423459 0.9923604 1.0931443]\n",
            "[ 0.14025863  0.29250455 -0.33688542]\n",
            "[-0.08791608 -2.150556   -0.25590885]\n",
            "[ 0.07763281 -1.0634928   0.07647065]\n"
          ],
          "name": "stdout"
        }
      ]
    },
    {
      "metadata": {
        "id": "9nufw9IRgMqB",
        "colab_type": "text"
      },
      "cell_type": "markdown",
      "source": [
        "Speaking about layers, which embed operations and data"
      ]
    },
    {
      "metadata": {
        "id": "2HlIorqKbsZN",
        "colab_type": "code",
        "colab": {
          "base_uri": "https://localhost:8080/",
          "height": 53
        },
        "outputId": "f5c27ff2-5187-4149-da9b-63df3b5c4572"
      },
      "cell_type": "code",
      "source": [
        "x = tf.placeholder(tf.float32, shape=[None, 3])\n",
        "linear_model = tf.layers.Dense(units=1)\n",
        "y = linear_model(x)\n",
        "init = tf.global_variables_initializer()\n",
        "sess.run(init)\n",
        "print(sess.run(y, feed_dict= {x: [[1,2,3],[2,3,1]]}))\n",
        "\n",
        "y = tf.layers.dense(x, units=1)\n"
      ],
      "execution_count": 12,
      "outputs": [
        {
          "output_type": "stream",
          "text": [
            "[[ 2.4900746 ]\n",
            " [-0.10331476]]\n"
          ],
          "name": "stdout"
        }
      ]
    },
    {
      "metadata": {
        "id": "TbPheqxbgeHJ",
        "colab_type": "code",
        "colab": {}
      },
      "cell_type": "code",
      "source": [
        "writer.add_graph(tf.get_default_graph())"
      ],
      "execution_count": 0,
      "outputs": []
    },
    {
      "metadata": {
        "id": "EsXtlQWpk2yY",
        "colab_type": "text"
      },
      "cell_type": "markdown",
      "source": [
        "Feature columns"
      ]
    },
    {
      "metadata": {
        "id": "x_e4fqBGgvty",
        "colab_type": "code",
        "colab": {}
      },
      "cell_type": "code",
      "source": [
        "# We must wrap categorical column with indicator_column\n",
        "features = {\n",
        "    'sales' : [[5], [10], [8], [9]],\n",
        "    'department': ['sports', 'sports', 'gardening', 'gardening']}\n",
        "\n",
        "department_column = tf.feature_column.categorical_column_with_vocabulary_list(\n",
        "                      'department', ['sports', 'gardening'])\n",
        "department_column = tf.feature_column.indicator_column(department_column)\n",
        "\n",
        "columns = [\n",
        "    tf.feature_column.numeric_column('sales'),\n",
        "    department_column\n",
        "]\n",
        "\n",
        "inputs = tf.feature_column.input_layer(features, columns)"
      ],
      "execution_count": 0,
      "outputs": []
    },
    {
      "metadata": {
        "id": "1mUz5ZS0llzt",
        "colab_type": "code",
        "colab": {
          "base_uri": "https://localhost:8080/",
          "height": 35
        },
        "outputId": "6bae117a-bd45-4af5-8cf9-857f372f5e3e"
      },
      "cell_type": "code",
      "source": [
        "var_init = tf.global_variables_initializer()\n",
        "table_init = tf.tables_initializer()\n",
        "sess = tf.Session()\n",
        "sess.run((var_init, table_init))"
      ],
      "execution_count": 40,
      "outputs": [
        {
          "output_type": "execute_result",
          "data": {
            "text/plain": [
              "(None, None)"
            ]
          },
          "metadata": {
            "tags": []
          },
          "execution_count": 40
        }
      ]
    },
    {
      "metadata": {
        "id": "LB8OtINNnWXv",
        "colab_type": "code",
        "colab": {
          "base_uri": "https://localhost:8080/",
          "height": 89
        },
        "outputId": "2f898356-2bff-4664-8a34-080c3bc75720"
      },
      "cell_type": "code",
      "source": [
        "print(sess.run(inputs))"
      ],
      "execution_count": 41,
      "outputs": [
        {
          "output_type": "stream",
          "text": [
            "[[ 1.  0.  5.]\n",
            " [ 1.  0. 10.]\n",
            " [ 0.  1.  8.]\n",
            " [ 0.  1.  9.]]\n"
          ],
          "name": "stdout"
        }
      ]
    },
    {
      "metadata": {
        "id": "tsoG8F4poJdx",
        "colab_type": "text"
      },
      "cell_type": "markdown",
      "source": [
        "Training\n"
      ]
    },
    {
      "metadata": {
        "id": "kJIGrB-7nox-",
        "colab_type": "code",
        "colab": {}
      },
      "cell_type": "code",
      "source": [
        "x = tf.constant([[1], [2], [3], [4], [20]], dtype=tf.float32)\n",
        "y_true = tf.constant([[0], [-1], [-2], [-3], [-19]], dtype=tf.float32)"
      ],
      "execution_count": 0,
      "outputs": []
    },
    {
      "metadata": {
        "id": "h-InpyflokfH",
        "colab_type": "code",
        "colab": {}
      },
      "cell_type": "code",
      "source": [
        "linear_model = tf.layers.Dense(units=1)\n",
        "y_pred = linear_model(x)"
      ],
      "execution_count": 0,
      "outputs": []
    },
    {
      "metadata": {
        "id": "vMFUC4SBor-A",
        "colab_type": "code",
        "colab": {
          "base_uri": "https://localhost:8080/",
          "height": 107
        },
        "outputId": "c0c8ffd7-bf57-42ea-d17f-43a7f668646e"
      },
      "cell_type": "code",
      "source": [
        "sess = tf.Session()\n",
        "init = tf.global_variables_initializer()\n",
        "sess.run(init)\n",
        "\n",
        "print(sess.run(y_pred))"
      ],
      "execution_count": 127,
      "outputs": [
        {
          "output_type": "stream",
          "text": [
            "[[ -0.50970185]\n",
            " [ -1.0194037 ]\n",
            " [ -1.5291055 ]\n",
            " [ -2.0388074 ]\n",
            " [-10.1940365 ]]\n"
          ],
          "name": "stdout"
        }
      ]
    },
    {
      "metadata": {
        "id": "G6Zb4ORWo0px",
        "colab_type": "code",
        "colab": {
          "base_uri": "https://localhost:8080/",
          "height": 35
        },
        "outputId": "958b84d3-b987-42a0-de2d-6faeee415125"
      },
      "cell_type": "code",
      "source": [
        "loss = tf.losses.mean_squared_error(labels=y_true, predictions=y_pred)\n",
        "print(sess.run(loss))"
      ],
      "execution_count": 128,
      "outputs": [
        {
          "output_type": "stream",
          "text": [
            "15.79016\n"
          ],
          "name": "stdout"
        }
      ]
    },
    {
      "metadata": {
        "id": "TCgemOAFpRH4",
        "colab_type": "code",
        "colab": {}
      },
      "cell_type": "code",
      "source": [
        "optimizer = tf.train.GradientDescentOptimizer(0.01)\n",
        "train = optimizer.minimize(loss)"
      ],
      "execution_count": 0,
      "outputs": []
    },
    {
      "metadata": {
        "id": "5MePeMPipqiB",
        "colab_type": "code",
        "colab": {
          "base_uri": "https://localhost:8080/",
          "height": 197
        },
        "outputId": "f0e33270-316a-4144-b00e-14196e938fdf"
      },
      "cell_type": "code",
      "source": [
        "for i in range(1000):\n",
        "  _, loss_value = sess.run((train, loss))\n",
        "  if i%100 == 0:\n",
        "    print(loss_value)"
      ],
      "execution_count": 130,
      "outputs": [
        {
          "output_type": "stream",
          "text": [
            "15.79016\n",
            "0.06007568\n",
            "0.0058583817\n",
            "0.0005712978\n",
            "5.5709515e-05\n",
            "5.4329516e-06\n",
            "5.299848e-07\n",
            "5.1702187e-08\n",
            "5.028807e-09\n",
            "4.950067e-10\n"
          ],
          "name": "stdout"
        }
      ]
    },
    {
      "metadata": {
        "id": "bKIS3gKFrtqD",
        "colab_type": "code",
        "colab": {
          "base_uri": "https://localhost:8080/",
          "height": 215
        },
        "outputId": "b2e09861-42c4-44ed-df9c-11071cb8975b"
      },
      "cell_type": "code",
      "source": [
        "print(sess.run(y_pred))\n",
        "print(sess.run(linear_model(tf.constant([[0],[1],[2],[3],[4],[30]], dtype=tf.float32))))"
      ],
      "execution_count": 131,
      "outputs": [
        {
          "output_type": "stream",
          "text": [
            "[[-8.2254410e-06]\n",
            " [-1.0000076e+00]\n",
            " [-2.0000069e+00]\n",
            " [-3.0000062e+00]\n",
            " [-1.8999996e+01]]\n",
            "[[ 9.9999112e-01]\n",
            " [-8.2254410e-06]\n",
            " [-1.0000076e+00]\n",
            " [-2.0000069e+00]\n",
            " [-3.0000062e+00]\n",
            " [-2.8999990e+01]]\n"
          ],
          "name": "stdout"
        }
      ]
    },
    {
      "metadata": {
        "id": "egDm2xwCqvE2",
        "colab_type": "text"
      },
      "cell_type": "markdown",
      "source": [
        "# Tensors"
      ]
    },
    {
      "metadata": {
        "id": "Jz7OPrqjpy1Q",
        "colab_type": "code",
        "colab": {}
      },
      "cell_type": "code",
      "source": [
        "# Rank 0\n",
        "\n",
        "mammal = tf.Variable(\"Elephant\", tf.string)\n",
        "ignition = tf.Variable(342, tf.int16)\n",
        "floating = tf.Variable(3.3, tf.float64)\n",
        "its_complicated = tf.Variable(12.3 - 3.1j, tf.complex64)"
      ],
      "execution_count": 0,
      "outputs": []
    },
    {
      "metadata": {
        "id": "J64kB8cDrWlh",
        "colab_type": "code",
        "colab": {}
      },
      "cell_type": "code",
      "source": [
        "# Rank 1\n",
        "mystr = tf.Variable([\"Hello\"], tf.string\n",
        "                   )\n",
        "cool_numbers = tf.Variable([12.34, 234.3], tf.float16)\n",
        "\n",
        "#Higher rank\n",
        "mymat = tf.Variable([[1], [2], [1]], tf.int16)"
      ],
      "execution_count": 0,
      "outputs": []
    },
    {
      "metadata": {
        "id": "qTgIySnNr6Rq",
        "colab_type": "code",
        "colab": {
          "base_uri": "https://localhost:8080/",
          "height": 35
        },
        "outputId": "9af52d43-835f-4bb0-eae0-b61fe8474a50"
      },
      "cell_type": "code",
      "source": [
        "print(tf.rank(mymat))"
      ],
      "execution_count": 99,
      "outputs": [
        {
          "output_type": "stream",
          "text": [
            "Tensor(\"Rank_3:0\", shape=(), dtype=int32)\n"
          ],
          "name": "stdout"
        }
      ]
    },
    {
      "metadata": {
        "id": "jniN59B2shnD",
        "colab_type": "code",
        "colab": {}
      },
      "cell_type": "code",
      "source": [
        "from sklearn.datasets import fetch_rcv1\n",
        "rcv1 = fetch_rcv1()"
      ],
      "execution_count": 0,
      "outputs": []
    },
    {
      "metadata": {
        "id": "xBbjXSDLPGDQ",
        "colab_type": "code",
        "colab": {
          "base_uri": "https://localhost:8080/",
          "height": 35
        },
        "outputId": "8871a72b-82af-4b5b-bb40-bec352de404a"
      },
      "cell_type": "code",
      "source": [
        "print(list(zip(rcv1.data[:20], rcv1.target[:20]))[0][0].toarray())"
      ],
      "execution_count": 28,
      "outputs": [
        {
          "output_type": "stream",
          "text": [
            "[[0. 0. 0. ... 0. 0. 0.]]\n"
          ],
          "name": "stdout"
        }
      ]
    },
    {
      "metadata": {
        "id": "LRVDUWfFQDZ_",
        "colab_type": "code",
        "colab": {}
      },
      "cell_type": "code",
      "source": [
        ""
      ],
      "execution_count": 0,
      "outputs": []
    }
  ]
}