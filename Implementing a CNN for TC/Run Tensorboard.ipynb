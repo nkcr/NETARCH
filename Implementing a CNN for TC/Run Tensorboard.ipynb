{
  "nbformat": 4,
  "nbformat_minor": 0,
  "metadata": {
    "colab": {
      "name": "Low level playground.ipynb",
      "version": "0.3.2",
      "provenance": [],
      "collapsed_sections": []
    },
    "kernelspec": {
      "name": "python3",
      "display_name": "Python 3"
    },
    "accelerator": "GPU"
  },
  "cells": [
    {
      "cell_type": "markdown",
      "metadata": {
        "id": "view-in-github",
        "colab_type": "text"
      },
      "source": [
        "[View in Colaboratory](https://colab.research.google.com/github/nkcr/NETARCH/blob/master/Implementing%20a%20CNN%20for%20TC/Run%20Tensorboard.ipynb)"
      ]
    },
    {
      "metadata": {
        "id": "A-bHuQhGSTVk",
        "colab_type": "text"
      },
      "cell_type": "markdown",
      "source": [
        "### Using TensorBoard"
      ]
    },
    {
      "metadata": {
        "id": "2skBXtLcRp4m",
        "colab_type": "code",
        "colab": {
          "base_uri": "https://localhost:8080/",
          "height": 269
        },
        "outputId": "c60c78cc-b3ab-45a4-c50a-3a74f58b49f3"
      },
      "cell_type": "code",
      "source": [
        "import tensorflow as tf\n",
        "#LOG_DIR = '/tmp/log'\n",
        "LOG_DIR= '/content/runs/'\n",
        "#LOG_DIR= '/content/runs/1526979864/checkpoints'\n",
        "get_ipython().system_raw(\n",
        "    'tensorboard --logdir {} --host 0.0.0.0 --port 6006 &'\n",
        "    .format(LOG_DIR)\n",
        ")\n",
        "! wget -nc https://bin.equinox.io/c/4VmDzA7iaHb/ngrok-stable-linux-amd64.zip\n",
        "! unzip -n ngrok-stable-linux-amd64.zip\n",
        "\n",
        "get_ipython().system_raw('./ngrok http 6006 &')\n",
        "! curl -s http://localhost:4040/api/tunnels | python3 -c \\\n",
        "    \"import sys, json; print(json.load(sys.stdin)['tunnels'][0]['public_url'])\"\n"
      ],
      "execution_count": 0,
      "outputs": [
        {
          "output_type": "stream",
          "text": [
            "--2018-05-28 07:22:53--  https://bin.equinox.io/c/4VmDzA7iaHb/ngrok-stable-linux-amd64.zip\n",
            "Resolving bin.equinox.io (bin.equinox.io)... 34.225.24.230, 52.1.117.85, 34.239.63.98, ...\n",
            "Connecting to bin.equinox.io (bin.equinox.io)|34.225.24.230|:443... connected.\n",
            "HTTP request sent, awaiting response... 200 OK\n",
            "Length: 5363700 (5.1M) [application/octet-stream]\n",
            "Saving to: ‘ngrok-stable-linux-amd64.zip’\n",
            "\n",
            "ngrok-stable-linux- 100%[===================>]   5.11M  8.54MB/s    in 0.6s    \n",
            "\n",
            "2018-05-28 07:22:54 (8.54 MB/s) - ‘ngrok-stable-linux-amd64.zip’ saved [5363700/5363700]\n",
            "\n",
            "Archive:  ngrok-stable-linux-amd64.zip\n",
            "  inflating: ngrok                   \n",
            "http://e9b237d8.ngrok.io\n"
          ],
          "name": "stdout"
        }
      ]
    },
    {
      "metadata": {
        "id": "hpKoj6vyo3M3",
        "colab_type": "code",
        "colab": {}
      },
      "cell_type": "code",
      "source": [
        "! cd runs && rm -rf *"
      ],
      "execution_count": 0,
      "outputs": []
    },
    {
      "metadata": {
        "id": "UGkE7xt4iQMv",
        "colab_type": "code",
        "colab": {
          "base_uri": "https://localhost:8080/",
          "height": 125
        },
        "outputId": "1bf8c172-f0df-4631-a94b-fcfe2db835a6"
      },
      "cell_type": "code",
      "source": [
        "! ps -ef | grep 6006\n",
        "! kill -9 23162 23190\n",
        "! ps -ef | grep 6006"
      ],
      "execution_count": 0,
      "outputs": [
        {
          "output_type": "stream",
          "text": [
            "root     23162     1  0 09:41 ?        00:00:02 /usr/bin/python2 /usr/local/bin/tensorboard --logdir /content/runs/1526979864/checkpoints --host 0.0.0.0 --port 6006\r\n",
            "root     23190     1  0 09:41 ?        00:00:03 ./ngrok http 6006\r\n",
            "root     23290   191 99 09:57 pts/0    00:00:01 /bin/sh -c  ps -ef | grep 6006\r\n",
            "root     23292 23290  0 09:57 pts/0    00:00:00 grep 6006\n",
            "root     23294   191 99 09:57 pts/0    00:00:01 /bin/sh -c  ps -ef | grep 6006\n",
            "root     23296 23294  0 09:57 pts/0    00:00:00 grep 6006\n"
          ],
          "name": "stdout"
        }
      ]
    },
    {
      "metadata": {
        "id": "DWlZJfMJftSa",
        "colab_type": "code",
        "colab": {
          "base_uri": "https://localhost:8080/",
          "height": 53
        },
        "outputId": "ba754c4f-1c05-40ee-c4e9-3d9919214bf6"
      },
      "cell_type": "code",
      "source": [
        "! ls -l /content/runs/"
      ],
      "execution_count": 0,
      "outputs": [
        {
          "output_type": "stream",
          "text": [
            "total 4\r\n",
            "drwxr-xr-x 4 root root 4096 May 24 09:31 1527154306\r\n"
          ],
          "name": "stdout"
        }
      ]
    },
    {
      "metadata": {
        "id": "DI-uBldlXkg7",
        "colab_type": "code",
        "colab": {}
      },
      "cell_type": "code",
      "source": [
        "rm -rf runs/1527153935"
      ],
      "execution_count": 0,
      "outputs": []
    },
    {
      "metadata": {
        "id": "vSJ9qR5GXfrA",
        "colab_type": "text"
      },
      "cell_type": "markdown",
      "source": [
        "### Get public link"
      ]
    },
    {
      "metadata": {
        "id": "q0Pw5lGDpK_b",
        "colab_type": "code",
        "colab": {
          "base_uri": "https://localhost:8080/",
          "height": 251
        },
        "outputId": "21713c69-cfb1-46a0-a61e-871e4c200001"
      },
      "cell_type": "code",
      "source": [
        "FILE=\"GoogleNews-vectors-negative300.bin\"\n",
        "!wget -nc 'https://s3.amazonaws.com/dl4j-distribution/GoogleNews-vectors-negative300.bin.gz'\n",
        "!ls\n",
        "get_ipython().system_raw(\n",
        "    '[ -f \"{}\" ] && echo \"skipping {}\" || gunzip \"{}.gz\"'\n",
        "    .format(FILE,FILE,FILE)\n",
        ")\n",
        "!ls"
      ],
      "execution_count": 0,
      "outputs": [
        {
          "output_type": "stream",
          "text": [
            "--2018-05-28 07:16:45--  https://s3.amazonaws.com/dl4j-distribution/GoogleNews-vectors-negative300.bin.gz\r\n",
            "Resolving s3.amazonaws.com (s3.amazonaws.com)... 52.216.102.149\n",
            "Connecting to s3.amazonaws.com (s3.amazonaws.com)|52.216.102.149|:443... connected.\n",
            "HTTP request sent, awaiting response... 200 OK\n",
            "Length: 1647046227 (1.5G) [application/x-gzip]\n",
            "Saving to: ‘GoogleNews-vectors-negative300.bin.gz’\n",
            "\n",
            "e300.bin.gz          74%[=============>      ]   1.15G  44.8MB/s    eta 15s    "
          ],
          "name": "stdout"
        },
        {
          "output_type": "stream",
          "text": [
            "GoogleNews-vectors- 100%[===================>]   1.53G  45.1MB/s    in 52s     \n",
            "\n",
            "2018-05-28 07:17:38 (30.0 MB/s) - ‘GoogleNews-vectors-negative300.bin.gz’ saved [1647046227/1647046227]\n",
            "\n",
            "datalab  GoogleNews-vectors-negative300.bin.gz\n",
            "datalab  GoogleNews-vectors-negative300.bin\n"
          ],
          "name": "stdout"
        }
      ]
    }
  ]
}